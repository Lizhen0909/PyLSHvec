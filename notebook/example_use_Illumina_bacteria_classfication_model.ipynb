{
 "cells": [
  {
   "cell_type": "markdown",
   "metadata": {},
   "source": [
    "To run this example notebook:\n",
    "* pandas, numy, biopython are needed for this notebook.\n",
    "* bacteria model files and lshvec java library are required to be downloaded (refer to project README)\n",
    "* install PyLSHVec (pip, docker or from code)\n",
    "* Be warning that jnius may not work on your environment. Refer to https://github.com/kivy/pyjnius for trouble shooting."
   ]
  },
  {
   "cell_type": "markdown",
   "metadata": {},
   "source": [
    "To make this notebok easier, it does not use multiple therads for prediction. However it also makes the notebook slow."
   ]
  },
  {
   "cell_type": "code",
   "execution_count": 1,
   "metadata": {
    "scrolled": true
   },
   "outputs": [
    {
     "name": "stdout",
     "output_type": "stream",
     "text": [
      "Populating the interactive namespace from numpy and matplotlib\n"
     ]
    }
   ],
   "source": [
    "%pylab inline\n",
    "import sys,os\n",
    "import pandas as pd"
   ]
  },
  {
   "cell_type": "code",
   "execution_count": 2,
   "metadata": {},
   "outputs": [],
   "source": [
    "if 0: #dirty fix\n",
    "    sys.path.insert(0,\"../src/\")\n",
    "    os.environ['JAVA_HOME']='/usr/lib/jvm/java-openjdk/'"
   ]
  },
  {
   "cell_type": "code",
   "execution_count": 4,
   "metadata": {},
   "outputs": [],
   "source": [
    "from pylshvec import *"
   ]
  },
  {
   "cell_type": "code",
   "execution_count": 5,
   "metadata": {},
   "outputs": [],
   "source": [
    "#here needs jlshvec jar file, download it first\n",
    "set_lshvec_jar_path(\"/mnt/jlshvec-assembly-0.1.jar\")"
   ]
  },
  {
   "cell_type": "code",
   "execution_count": 6,
   "metadata": {},
   "outputs": [],
   "source": [
    "#since vector model is usually large, set a big java memory limit is preferred. \n",
    "add_java_options(\"-Xmx48G\")"
   ]
  },
  {
   "cell_type": "code",
   "execution_count": 7,
   "metadata": {},
   "outputs": [],
   "source": [
    "#here need model file and lsh function file, download them first\n",
    "model= LSHVec(model_file=\"/mnt/genbank_model_ill_k23_model_299\", hash_file=\"/mnt/lsh_CAMI2_illumina_k23_h25.crp\")"
   ]
  },
  {
   "cell_type": "code",
   "execution_count": 8,
   "metadata": {},
   "outputs": [
    {
     "name": "stdout",
     "output_type": "stream",
     "text": [
      "getBatchsize 1024\n",
      "getKmerSize 23\n",
      "getMaxItems 500\n",
      "getNumThread 1\n",
      "getThreshold 0.004999999888241291\n",
      "getVecDim 100\n",
      "isInitialized True\n",
      "isOnlyShowLeaf False\n",
      "isOnlyShowMainTax True\n",
      "isWithoutUncult True\n"
     ]
    }
   ],
   "source": [
    "#To show some parameters\n",
    "getIgnores = ['getRank', 'getName', 'getTaxIdPath', 'getTaxNamePath']\n",
    "for u in dir(model):\n",
    "    if not u in getIgnores:\n",
    "        if u.startswith('get') or u.startswith('is'):\n",
    "            fun = getattr(model, u)\n",
    "            print(u, fun())"
   ]
  },
  {
   "cell_type": "code",
   "execution_count": 12,
   "metadata": {
    "scrolled": true
   },
   "outputs": [
    {
     "name": "stdout",
     "output_type": "stream",
     "text": [
      "getRank no rank\n",
      "getName Pseudomonas aeruginosa 0C2E\n",
      "getTaxIdPath [1, 3000001, 3019651, 131567, 3234078, 2, 3234080, 3234083, 3234944, 3234946, 1224, 3234949, 3236885, 3244539, 1236, 3340569, 3357417, 3392893, 3398780, 72274, 3398783, 3398789, 135621, 3407233, 3407383, 3407407, 286, 3407410, 3407412, 3407414, 3407417, 3409822, 3409825, 3410337, 3410592, 3410594, 3410596, 3410598, 3410600, 3410602, 3410604, 136841, 3410607, 3410629, 3410635, 287, 3410636, 3410639, 3410772, 3410775, 3410802, 3410805, 3410810, 3410813]\n",
      "getTaxNamePath ['root', 'dummy3000001', 'dummy3019651', 'cellular organisms', 'dummy3234078', 'Bacteria', 'dummy3234080', 'dummy3234083', 'dummy3234944', 'dummy3234946', 'Proteobacteria', 'dummy3234949', 'dummy3236885', 'dummy3244539', 'Gammaproteobacteria', 'dummy3340569', 'dummy3357417', 'dummy3392893', 'dummy3398780', 'Pseudomonadales', 'dummy3398783', 'dummy3398789', 'Pseudomonadaceae', 'dummy3407233', 'dummy3407383', 'dummy3407407', 'Pseudomonas', 'dummy3407410', 'dummy3407412', 'dummy3407414', 'dummy3407417', 'dummy3409822', 'dummy3409825', 'dummy3410337', 'dummy3410592', 'dummy3410594', 'dummy3410596', 'dummy3410598', 'dummy3410600', 'dummy3410602', 'dummy3410604', 'Pseudomonas aeruginosa group', 'dummy3410607', 'dummy3410629', 'dummy3410635', 'Pseudomonas aeruginosa', 'dummy3410636', 'dummy3410639', 'dummy3410772', 'dummy3410775', 'dummy3410802', 'dummy3410805', 'dummy3410810', 'dummy3410813']\n"
     ]
    }
   ],
   "source": [
    "#to show information for a taxonomy id\n",
    "# All taxonomiy ids are ncbi taxonomy ids, except dummy id\n",
    "for u in getIgnores:\n",
    "    fun = getattr(model, u)\n",
    "    print(u, fun(1421531))"
   ]
  },
  {
   "cell_type": "markdown",
   "metadata": {},
   "source": [
    "From [NCBI website](https://www.ncbi.nlm.nih.gov/Taxonomy/Browser/wwwtax.cgi) we see that the lineage of 141531 is \"Bacteria; Proteobacteria; Gammaproteobacteria; Pseudomonadales; Pseudomonadaceae; Pseudomonas\""
   ]
  },
  {
   "cell_type": "code",
   "execution_count": null,
   "metadata": {},
   "outputs": [],
   "source": []
  },
  {
   "cell_type": "code",
   "execution_count": 13,
   "metadata": {},
   "outputs": [],
   "source": [
    "def random_dna_sequence(length):\n",
    "    return ''.join(np.random.choice(list('ACTG')) for _ in range(length))\n",
    "\n",
    "def add_substitute_error(seq, err_rate=0.05):\n",
    "    return \"\".join(    np.random.choice(list('ACTG'))  if np.random.random()<err_rate else u for u in seq )\n",
    "def random_sub_seq(seq,length=500):\n",
    "    assert len(seq)>length\n",
    "    i=int(np.random.random()*(len(seq)-length))\n",
    "    return seq[i:i+length]\n",
    "def predict(seq):\n",
    "    pred=pd.Series(model.predict(seq), name='prob')\n",
    "    pred.index.name='taxid'\n",
    "    pred=pred.to_frame()\n",
    "    pred['rank']=pred.index.map(lambda u: model.getRank(u))\n",
    "    pred['name']=pred.index.map(lambda u: model.getName(u))\n",
    "    return pred.sort_values(\"prob\",ascending=False)"
   ]
  },
  {
   "cell_type": "markdown",
   "metadata": {},
   "source": [
    "### let's play with an assembly  for [Pseudomonas aeruginosa](https://www.ncbi.nlm.nih.gov/assembly/GCF_001500235.1/) whose taxid is 1421531."
   ]
  },
  {
   "cell_type": "code",
   "execution_count": 14,
   "metadata": {},
   "outputs": [],
   "source": [
    "url=\"ftp://ftp.ncbi.nlm.nih.gov/genomes/all/GCA/001/500/235/GCA_001500235.1_ASM150023v1/GCA_001500235.1_ASM150023v1_genomic.fna.gz\""
   ]
  },
  {
   "cell_type": "code",
   "execution_count": 23,
   "metadata": {},
   "outputs": [
    {
     "name": "stdout",
     "output_type": "stream",
     "text": [
      "LNBU01000001.1 458883\n",
      "LNBU01000002.1 484767\n"
     ]
    }
   ],
   "source": [
    "#download the sequence\n",
    "import urllib \n",
    "from Bio import SeqIO\n",
    "import gzip\n",
    "with  urllib.request.urlopen(url) as handle_url :\n",
    "    with gzip.open(handle_url, 'rt') as handle:\n",
    "        for i,record in enumerate(SeqIO.parse(handle, \"fasta\")):\n",
    "            print(record.id, len(record))\n",
    "            if i==1: break\n",
    "            "
   ]
  },
  {
   "cell_type": "code",
   "execution_count": 24,
   "metadata": {
    "scrolled": true
   },
   "outputs": [
    {
     "name": "stdout",
     "output_type": "stream",
     "text": [
      "The sequence length is 484767\n"
     ]
    }
   ],
   "source": [
    "seq=str(record.seq)\n",
    "print (\"The sequence length is {}\".format(len(seq)))\n"
   ]
  },
  {
   "cell_type": "code",
   "execution_count": null,
   "metadata": {},
   "outputs": [],
   "source": [
    "\n"
   ]
  },
  {
   "cell_type": "markdown",
   "metadata": {},
   "source": [
    "##### Look at how the model predict on the  seq. Note that we only make predictions on main ranks. (actually it does not work good on strain level)"
   ]
  },
  {
   "cell_type": "code",
   "execution_count": 26,
   "metadata": {
    "scrolled": false
   },
   "outputs": [],
   "source": [
    "pred = predict(seq)"
   ]
  },
  {
   "cell_type": "markdown",
   "metadata": {},
   "source": [
    "#### Let's see the prediction for non-species ranks below. Recall the lineage is \"Bacteria; Proteobacteria; Gammaproteobacteria; Pseudomonadales; Pseudomonadaceae; Pseudomonas\".  It seems the prediction is good here."
   ]
  },
  {
   "cell_type": "code",
   "execution_count": 30,
   "metadata": {},
   "outputs": [
    {
     "data": {
      "text/html": [
       "<div>\n",
       "<style scoped>\n",
       "    .dataframe tbody tr th:only-of-type {\n",
       "        vertical-align: middle;\n",
       "    }\n",
       "\n",
       "    .dataframe tbody tr th {\n",
       "        vertical-align: top;\n",
       "    }\n",
       "\n",
       "    .dataframe thead th {\n",
       "        text-align: right;\n",
       "    }\n",
       "</style>\n",
       "<table border=\"1\" class=\"dataframe\">\n",
       "  <thead>\n",
       "    <tr style=\"text-align: right;\">\n",
       "      <th></th>\n",
       "      <th>prob</th>\n",
       "      <th>rank</th>\n",
       "      <th>name</th>\n",
       "    </tr>\n",
       "    <tr>\n",
       "      <th>taxid</th>\n",
       "      <th></th>\n",
       "      <th></th>\n",
       "      <th></th>\n",
       "    </tr>\n",
       "  </thead>\n",
       "  <tbody>\n",
       "    <tr>\n",
       "      <th>2</th>\n",
       "      <td>0.9994</td>\n",
       "      <td>superkingdom</td>\n",
       "      <td>Bacteria</td>\n",
       "    </tr>\n",
       "    <tr>\n",
       "      <th>1224</th>\n",
       "      <td>0.8811</td>\n",
       "      <td>phylum</td>\n",
       "      <td>Proteobacteria</td>\n",
       "    </tr>\n",
       "    <tr>\n",
       "      <th>1236</th>\n",
       "      <td>0.8347</td>\n",
       "      <td>class</td>\n",
       "      <td>Gammaproteobacteria</td>\n",
       "    </tr>\n",
       "    <tr>\n",
       "      <th>72274</th>\n",
       "      <td>0.8195</td>\n",
       "      <td>order</td>\n",
       "      <td>Pseudomonadales</td>\n",
       "    </tr>\n",
       "    <tr>\n",
       "      <th>135621</th>\n",
       "      <td>0.8191</td>\n",
       "      <td>family</td>\n",
       "      <td>Pseudomonadaceae</td>\n",
       "    </tr>\n",
       "    <tr>\n",
       "      <th>286</th>\n",
       "      <td>0.8186</td>\n",
       "      <td>genus</td>\n",
       "      <td>Pseudomonas</td>\n",
       "    </tr>\n",
       "    <tr>\n",
       "      <th>201174</th>\n",
       "      <td>0.1054</td>\n",
       "      <td>phylum</td>\n",
       "      <td>Actinobacteria</td>\n",
       "    </tr>\n",
       "    <tr>\n",
       "      <th>1760</th>\n",
       "      <td>0.1049</td>\n",
       "      <td>class</td>\n",
       "      <td>Actinobacteria</td>\n",
       "    </tr>\n",
       "    <tr>\n",
       "      <th>85007</th>\n",
       "      <td>0.0311</td>\n",
       "      <td>order</td>\n",
       "      <td>Corynebacteriales</td>\n",
       "    </tr>\n",
       "    <tr>\n",
       "      <th>85006</th>\n",
       "      <td>0.0310</td>\n",
       "      <td>order</td>\n",
       "      <td>Micrococcales</td>\n",
       "    </tr>\n",
       "    <tr>\n",
       "      <th>28211</th>\n",
       "      <td>0.0255</td>\n",
       "      <td>class</td>\n",
       "      <td>Alphaproteobacteria</td>\n",
       "    </tr>\n",
       "    <tr>\n",
       "      <th>85011</th>\n",
       "      <td>0.0252</td>\n",
       "      <td>order</td>\n",
       "      <td>Streptomycetales</td>\n",
       "    </tr>\n",
       "  </tbody>\n",
       "</table>\n",
       "</div>"
      ],
      "text/plain": [
       "          prob          rank                 name\n",
       "taxid                                            \n",
       "2       0.9994  superkingdom             Bacteria\n",
       "1224    0.8811        phylum       Proteobacteria\n",
       "1236    0.8347         class  Gammaproteobacteria\n",
       "72274   0.8195         order      Pseudomonadales\n",
       "135621  0.8191        family     Pseudomonadaceae\n",
       "286     0.8186         genus          Pseudomonas\n",
       "201174  0.1054        phylum       Actinobacteria\n",
       "1760    0.1049         class       Actinobacteria\n",
       "85007   0.0311         order    Corynebacteriales\n",
       "85006   0.0310         order        Micrococcales\n",
       "28211   0.0255         class  Alphaproteobacteria\n",
       "85011   0.0252         order     Streptomycetales"
      ]
     },
     "execution_count": 30,
     "metadata": {},
     "output_type": "execute_result"
    }
   ],
   "source": [
    "pred[pred['rank']!='species'].head(12)"
   ]
  },
  {
   "cell_type": "markdown",
   "metadata": {},
   "source": [
    "#### However for species, the probability seems equally spreads on many taxids. This because the train data of this model samples only one assembly for each species. These species are so similar to each other that it is hard to differentiate them in species level."
   ]
  },
  {
   "cell_type": "code",
   "execution_count": 31,
   "metadata": {},
   "outputs": [
    {
     "data": {
      "text/html": [
       "<div>\n",
       "<style scoped>\n",
       "    .dataframe tbody tr th:only-of-type {\n",
       "        vertical-align: middle;\n",
       "    }\n",
       "\n",
       "    .dataframe tbody tr th {\n",
       "        vertical-align: top;\n",
       "    }\n",
       "\n",
       "    .dataframe thead th {\n",
       "        text-align: right;\n",
       "    }\n",
       "</style>\n",
       "<table border=\"1\" class=\"dataframe\">\n",
       "  <thead>\n",
       "    <tr style=\"text-align: right;\">\n",
       "      <th></th>\n",
       "      <th>prob</th>\n",
       "      <th>rank</th>\n",
       "      <th>name</th>\n",
       "    </tr>\n",
       "    <tr>\n",
       "      <th>taxid</th>\n",
       "      <th></th>\n",
       "      <th></th>\n",
       "      <th></th>\n",
       "    </tr>\n",
       "  </thead>\n",
       "  <tbody>\n",
       "    <tr>\n",
       "      <th>1739343</th>\n",
       "      <td>0.0273</td>\n",
       "      <td>species</td>\n",
       "      <td>Pseudomonas sp. HMSC067F09</td>\n",
       "    </tr>\n",
       "    <tr>\n",
       "      <th>1739344</th>\n",
       "      <td>0.0271</td>\n",
       "      <td>species</td>\n",
       "      <td>Pseudomonas sp. HMSC076A12</td>\n",
       "    </tr>\n",
       "    <tr>\n",
       "      <th>1739410</th>\n",
       "      <td>0.0268</td>\n",
       "      <td>species</td>\n",
       "      <td>Pseudomonas sp. HMSC065H02</td>\n",
       "    </tr>\n",
       "    <tr>\n",
       "      <th>1739334</th>\n",
       "      <td>0.0264</td>\n",
       "      <td>species</td>\n",
       "      <td>Pseudomonas sp. HMSC066B03</td>\n",
       "    </tr>\n",
       "    <tr>\n",
       "      <th>1739293</th>\n",
       "      <td>0.0261</td>\n",
       "      <td>species</td>\n",
       "      <td>Pseudomonas sp. HMSC067D05</td>\n",
       "    </tr>\n",
       "    <tr>\n",
       "      <th>1739418</th>\n",
       "      <td>0.0260</td>\n",
       "      <td>species</td>\n",
       "      <td>Pseudomonas sp. HMSC067G02</td>\n",
       "    </tr>\n",
       "    <tr>\n",
       "      <th>1715094</th>\n",
       "      <td>0.0250</td>\n",
       "      <td>species</td>\n",
       "      <td>Pseudomonas sp. HMSC070B12</td>\n",
       "    </tr>\n",
       "    <tr>\n",
       "      <th>1715014</th>\n",
       "      <td>0.0241</td>\n",
       "      <td>species</td>\n",
       "      <td>Pseudomonas sp. HMSC060G01</td>\n",
       "    </tr>\n",
       "    <tr>\n",
       "      <th>1739451</th>\n",
       "      <td>0.0238</td>\n",
       "      <td>species</td>\n",
       "      <td>Pseudomonas sp. HMSC069G05</td>\n",
       "    </tr>\n",
       "    <tr>\n",
       "      <th>1978467</th>\n",
       "      <td>0.0237</td>\n",
       "      <td>species</td>\n",
       "      <td>Pseudomonas sp. AK6U</td>\n",
       "    </tr>\n",
       "    <tr>\n",
       "      <th>1739250</th>\n",
       "      <td>0.0225</td>\n",
       "      <td>species</td>\n",
       "      <td>Pseudomonas sp. HMSC075A08</td>\n",
       "    </tr>\n",
       "    <tr>\n",
       "      <th>1739294</th>\n",
       "      <td>0.0224</td>\n",
       "      <td>species</td>\n",
       "      <td>Pseudomonas sp. HMSC066B11</td>\n",
       "    </tr>\n",
       "    <tr>\n",
       "      <th>287</th>\n",
       "      <td>0.0223</td>\n",
       "      <td>species</td>\n",
       "      <td>Pseudomonas aeruginosa</td>\n",
       "    </tr>\n",
       "    <tr>\n",
       "      <th>1715090</th>\n",
       "      <td>0.0216</td>\n",
       "      <td>species</td>\n",
       "      <td>Pseudomonas sp. HMSC071F02</td>\n",
       "    </tr>\n",
       "    <tr>\n",
       "      <th>1715145</th>\n",
       "      <td>0.0212</td>\n",
       "      <td>species</td>\n",
       "      <td>Pseudomonas sp. HMSC058C05</td>\n",
       "    </tr>\n",
       "    <tr>\n",
       "      <th>1715138</th>\n",
       "      <td>0.0210</td>\n",
       "      <td>species</td>\n",
       "      <td>Pseudomonas sp. HMSC058B07</td>\n",
       "    </tr>\n",
       "    <tr>\n",
       "      <th>1715060</th>\n",
       "      <td>0.0210</td>\n",
       "      <td>species</td>\n",
       "      <td>Pseudomonas sp. HMSC057H01</td>\n",
       "    </tr>\n",
       "    <tr>\n",
       "      <th>1715166</th>\n",
       "      <td>0.0206</td>\n",
       "      <td>species</td>\n",
       "      <td>Pseudomonas sp. HMSC059F05</td>\n",
       "    </tr>\n",
       "    <tr>\n",
       "      <th>1715015</th>\n",
       "      <td>0.0205</td>\n",
       "      <td>species</td>\n",
       "      <td>Pseudomonas sp. HMSC060F12</td>\n",
       "    </tr>\n",
       "    <tr>\n",
       "      <th>1715163</th>\n",
       "      <td>0.0204</td>\n",
       "      <td>species</td>\n",
       "      <td>Pseudomonas sp. HMSC058A10</td>\n",
       "    </tr>\n",
       "  </tbody>\n",
       "</table>\n",
       "</div>"
      ],
      "text/plain": [
       "           prob     rank                        name\n",
       "taxid                                               \n",
       "1739343  0.0273  species  Pseudomonas sp. HMSC067F09\n",
       "1739344  0.0271  species  Pseudomonas sp. HMSC076A12\n",
       "1739410  0.0268  species  Pseudomonas sp. HMSC065H02\n",
       "1739334  0.0264  species  Pseudomonas sp. HMSC066B03\n",
       "1739293  0.0261  species  Pseudomonas sp. HMSC067D05\n",
       "1739418  0.0260  species  Pseudomonas sp. HMSC067G02\n",
       "1715094  0.0250  species  Pseudomonas sp. HMSC070B12\n",
       "1715014  0.0241  species  Pseudomonas sp. HMSC060G01\n",
       "1739451  0.0238  species  Pseudomonas sp. HMSC069G05\n",
       "1978467  0.0237  species        Pseudomonas sp. AK6U\n",
       "1739250  0.0225  species  Pseudomonas sp. HMSC075A08\n",
       "1739294  0.0224  species  Pseudomonas sp. HMSC066B11\n",
       "287      0.0223  species      Pseudomonas aeruginosa\n",
       "1715090  0.0216  species  Pseudomonas sp. HMSC071F02\n",
       "1715145  0.0212  species  Pseudomonas sp. HMSC058C05\n",
       "1715138  0.0210  species  Pseudomonas sp. HMSC058B07\n",
       "1715060  0.0210  species  Pseudomonas sp. HMSC057H01\n",
       "1715166  0.0206  species  Pseudomonas sp. HMSC059F05\n",
       "1715015  0.0205  species  Pseudomonas sp. HMSC060F12\n",
       "1715163  0.0204  species  Pseudomonas sp. HMSC058A10"
      ]
     },
     "execution_count": 31,
     "metadata": {},
     "output_type": "execute_result"
    }
   ],
   "source": [
    "pred[pred['rank']=='species'].head(20)"
   ]
  },
  {
   "cell_type": "markdown",
   "metadata": {},
   "source": [
    "#### You may go to another notebook, the model in which uses does not sample sepcies, to see it works well for species 287 which has a lot strain assemblies.  "
   ]
  },
  {
   "cell_type": "markdown",
   "metadata": {},
   "source": [
    "#### Anyway data plays an important role in machine learning models. Keep it in mind when you use a pre-train model."
   ]
  },
  {
   "cell_type": "markdown",
   "metadata": {},
   "source": [
    "#### We does not care about species prediction in this notebook anymore."
   ]
  },
  {
   "cell_type": "markdown",
   "metadata": {},
   "source": [
    "### All the above work on the whole sequence. How about for sub sequences? "
   ]
  },
  {
   "cell_type": "code",
   "execution_count": 34,
   "metadata": {},
   "outputs": [
    {
     "data": {
      "text/html": [
       "<div>\n",
       "<style scoped>\n",
       "    .dataframe tbody tr th:only-of-type {\n",
       "        vertical-align: middle;\n",
       "    }\n",
       "\n",
       "    .dataframe tbody tr th {\n",
       "        vertical-align: top;\n",
       "    }\n",
       "\n",
       "    .dataframe thead th {\n",
       "        text-align: right;\n",
       "    }\n",
       "</style>\n",
       "<table border=\"1\" class=\"dataframe\">\n",
       "  <thead>\n",
       "    <tr style=\"text-align: right;\">\n",
       "      <th></th>\n",
       "      <th>prob</th>\n",
       "      <th>rank</th>\n",
       "      <th>name</th>\n",
       "    </tr>\n",
       "    <tr>\n",
       "      <th>taxid</th>\n",
       "      <th></th>\n",
       "      <th></th>\n",
       "      <th></th>\n",
       "    </tr>\n",
       "  </thead>\n",
       "  <tbody>\n",
       "    <tr>\n",
       "      <th>2</th>\n",
       "      <td>0.9993</td>\n",
       "      <td>superkingdom</td>\n",
       "      <td>Bacteria</td>\n",
       "    </tr>\n",
       "    <tr>\n",
       "      <th>1224</th>\n",
       "      <td>0.8934</td>\n",
       "      <td>phylum</td>\n",
       "      <td>Proteobacteria</td>\n",
       "    </tr>\n",
       "    <tr>\n",
       "      <th>1236</th>\n",
       "      <td>0.8785</td>\n",
       "      <td>class</td>\n",
       "      <td>Gammaproteobacteria</td>\n",
       "    </tr>\n",
       "    <tr>\n",
       "      <th>72274</th>\n",
       "      <td>0.8623</td>\n",
       "      <td>order</td>\n",
       "      <td>Pseudomonadales</td>\n",
       "    </tr>\n",
       "    <tr>\n",
       "      <th>135621</th>\n",
       "      <td>0.8577</td>\n",
       "      <td>family</td>\n",
       "      <td>Pseudomonadaceae</td>\n",
       "    </tr>\n",
       "    <tr>\n",
       "      <th>286</th>\n",
       "      <td>0.8559</td>\n",
       "      <td>genus</td>\n",
       "      <td>Pseudomonas</td>\n",
       "    </tr>\n",
       "    <tr>\n",
       "      <th>201174</th>\n",
       "      <td>0.0756</td>\n",
       "      <td>phylum</td>\n",
       "      <td>Actinobacteria</td>\n",
       "    </tr>\n",
       "    <tr>\n",
       "      <th>1760</th>\n",
       "      <td>0.0748</td>\n",
       "      <td>class</td>\n",
       "      <td>Actinobacteria</td>\n",
       "    </tr>\n",
       "    <tr>\n",
       "      <th>1739344</th>\n",
       "      <td>0.0451</td>\n",
       "      <td>species</td>\n",
       "      <td>Pseudomonas sp. HMSC076A12</td>\n",
       "    </tr>\n",
       "    <tr>\n",
       "      <th>1739343</th>\n",
       "      <td>0.0393</td>\n",
       "      <td>species</td>\n",
       "      <td>Pseudomonas sp. HMSC067F09</td>\n",
       "    </tr>\n",
       "  </tbody>\n",
       "</table>\n",
       "</div>"
      ],
      "text/plain": [
       "           prob          rank                        name\n",
       "taxid                                                    \n",
       "2        0.9993  superkingdom                    Bacteria\n",
       "1224     0.8934        phylum              Proteobacteria\n",
       "1236     0.8785         class         Gammaproteobacteria\n",
       "72274    0.8623         order             Pseudomonadales\n",
       "135621   0.8577        family            Pseudomonadaceae\n",
       "286      0.8559         genus                 Pseudomonas\n",
       "201174   0.0756        phylum              Actinobacteria\n",
       "1760     0.0748         class              Actinobacteria\n",
       "1739344  0.0451       species  Pseudomonas sp. HMSC076A12\n",
       "1739343  0.0393       species  Pseudomonas sp. HMSC067F09"
      ]
     },
     "execution_count": 34,
     "metadata": {},
     "output_type": "execute_result"
    }
   ],
   "source": [
    "predict(random_sub_seq(seq,300)).head(10)"
   ]
  },
  {
   "cell_type": "markdown",
   "metadata": {},
   "source": [
    "### It is not bad for a 300-length sequence."
   ]
  },
  {
   "cell_type": "markdown",
   "metadata": {},
   "source": [
    "### We are going to show the mean prediction probabilities for tax 286 for various subseq length."
   ]
  },
  {
   "cell_type": "code",
   "execution_count": 35,
   "metadata": {},
   "outputs": [],
   "source": [
    "def mean_prob(seq_len=500, target_taxid=286):\n",
    "    prob_list=[]\n",
    "    for i in range(0,len(seq)-seq_len,int(seq_len/2)):\n",
    "        aseq = seq[i:i+seq_len]\n",
    "        pred = model.predict(aseq)\n",
    "        if target_taxid in pred:\n",
    "            prob_list.append(pred[target_taxid])\n",
    "        else:\n",
    "            prob_list.append(0)\n",
    "    return np.mean(prob_list)\n"
   ]
  },
  {
   "cell_type": "code",
   "execution_count": 36,
   "metadata": {},
   "outputs": [],
   "source": [
    "lengths =list( range(100,500,25))\n",
    "probs=[mean_prob(seq_len=u) for u in lengths]"
   ]
  },
  {
   "cell_type": "code",
   "execution_count": 37,
   "metadata": {},
   "outputs": [
    {
     "data": {
      "image/png": "[encoded data removed]",
      "text/plain": [
       "<Figure size 432x288 with 1 Axes>"
      ]
     },
     "metadata": {
      "needs_background": "light"
     },
     "output_type": "display_data"
    }
   ],
   "source": [
    "plt.plot(lengths,probs)\n",
    "plt.ylabel(\"Probability\")\n",
    "plt.xlabel(\"Sequence Length\");"
   ]
  },
  {
   "cell_type": "code",
   "execution_count": null,
   "metadata": {},
   "outputs": [],
   "source": []
  },
  {
   "cell_type": "code",
   "execution_count": null,
   "metadata": {},
   "outputs": [],
   "source": []
  }
 ],
 "metadata": {
  "kernelspec": {
   "display_name": "Python 3",
   "language": "python",
   "name": "python3"
  },
  "language_info": {
   "codemirror_mode": {
    "name": "ipython",
    "version": 3
   },
   "file_extension": ".py",
   "mimetype": "text/x-python",
   "name": "python",
   "nbconvert_exporter": "python",
   "pygments_lexer": "ipython3",
   "version": "3.7.3"
  }
 },
 "nbformat": 4,
 "nbformat_minor": 2
}
