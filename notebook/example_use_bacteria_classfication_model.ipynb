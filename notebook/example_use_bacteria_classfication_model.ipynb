{
 "cells": [
  {
   "cell_type": "markdown",
   "metadata": {},
   "source": [
    "To run this example notebook:\n",
    "* pandas, numy, biopython are needed for this notebook.\n",
    "* bacteria model files and lshvec java library are required to be downloaded (refer to project README)\n",
    "* install PyLSHVec (pip, docker or from code)\n",
    "* Be warning that jnius may not work on your environment. Refer to https://github.com/kivy/pyjnius for trouble shooting."
   ]
  },
  {
   "cell_type": "markdown",
   "metadata": {},
   "source": [
    "To make this notebok easier, it does not use multiple therads for prediction. However it also makes the notebook slow."
   ]
  },
  {
   "cell_type": "code",
   "execution_count": 1,
   "metadata": {
    "scrolled": true
   },
   "outputs": [
    {
     "name": "stdout",
     "output_type": "stream",
     "text": [
      "Populating the interactive namespace from numpy and matplotlib\n"
     ]
    }
   ],
   "source": [
    "%pylab inline\n",
    "import sys,os\n",
    "import pandas as pd"
   ]
  },
  {
   "cell_type": "code",
   "execution_count": 2,
   "metadata": {},
   "outputs": [],
   "source": [
    "if 0: #dirty fix\n",
    "    sys.path.insert(0,\"../src/\")\n",
    "    os.environ['JAVA_HOME']='/usr/lib/jvm/java-openjdk/'"
   ]
  },
  {
   "cell_type": "code",
   "execution_count": 5,
   "metadata": {},
   "outputs": [],
   "source": [
    "from pylshvec import *"
   ]
  },
  {
   "cell_type": "code",
   "execution_count": 6,
   "metadata": {},
   "outputs": [],
   "source": [
    "#here needs jlshvec jar file, download it first\n",
    "set_lshvec_jar_path(\"/mnt/jlshvec-assembly-0.1.jar\")"
   ]
  },
  {
   "cell_type": "code",
   "execution_count": 7,
   "metadata": {},
   "outputs": [],
   "source": [
    "#since vector model is usually large, set a big java memory limit is preferred. \n",
    "add_java_options(\"-Xmx32G\")"
   ]
  },
  {
   "cell_type": "code",
   "execution_count": 8,
   "metadata": {},
   "outputs": [],
   "source": [
    "#here need model file and lsh function file, download them first\n",
    "model= LSHVec(model_file=\"/mnt/refdb_bacteria_model_gs_k23_l3000_rand_m299\", hash_file=\"/mnt/lsh_nt_NonEukaryota_k23_h25.crp\")"
   ]
  },
  {
   "cell_type": "code",
   "execution_count": 9,
   "metadata": {},
   "outputs": [
    {
     "name": "stdout",
     "output_type": "stream",
     "text": [
      "Help on LSHVec in module pylshvec.lshvec object:\n",
      "\n",
      "class LSHVec(builtins.object)\n",
      " |  LSHVec(model_file, hash_file, threshold=0.005, max_results=500, batch_size=1024, num_thread=1, only_show_main_tax=False, without_uncult=True)\n",
      " |  \n",
      " |  Methods defined here:\n",
      " |  \n",
      " |  __init__(self, model_file, hash_file, threshold=0.005, max_results=500, batch_size=1024, num_thread=1, only_show_main_tax=False, without_uncult=True)\n",
      " |      load a pre-trained lshvec model. \n",
      " |      \n",
      " |      Parameters:\n",
      " |          model_file: pre-trained model file, which contains k-mer vectors and model parameters\n",
      " |          hash_file: lsh hash function file\n",
      " |      \n",
      " |      Refer to get methods for the meaning of other parameters\n",
      " |  \n",
      " |  embedding(self, seq_or_seqs)\n",
      " |      Get the embedding vector/vectors for a sequence or a list of sequence (multiple threads if #thread > 1)\n",
      " |  \n",
      " |  embedding_single_thread(self, seq_or_seqs)\n",
      " |      Get the embedding vector/vectors for a sequence or a list of sequence (single thread version)\n",
      " |  \n",
      " |  getBatchsize(self)\n",
      " |      batch size when make prediction or embedding (internal use)\n",
      " |  \n",
      " |  getKmerSize(self)\n",
      " |      The kmer size used when the model was trained\n",
      " |  \n",
      " |  getMaxItems(self)\n",
      " |      maximum number of taxids returned for prediction of a sequence. \n",
      " |      It prevent to return too many results since a usually a taxonomy tree has millions of nodes.\n",
      " |  \n",
      " |  getName(self, nid)\n",
      " |      return name of a tax id. e.g. 2 -> bacteria\n",
      " |  \n",
      " |  getNumThread(self)\n",
      " |      The number of threads\n",
      " |  \n",
      " |  getRank(self, nid)\n",
      " |      return rank of a tax id. e.g. 2 -> superkingdom\n",
      " |  \n",
      " |  getTaxIdPath(self, nid)\n",
      " |      return path of a taxid (from root to this taxid)\n",
      " |  \n",
      " |  getTaxNamePath(self, nid)\n",
      " |      return taxid name path of a taxid (from root to this taxid)\n",
      " |  \n",
      " |  getThreshold(self)\n",
      " |      Probability threshold. The prediction of a taxid is returned only when its probability is greater than the threshold\n",
      " |  \n",
      " |  getVecDim(self)\n",
      " |      embedding vector size\n",
      " |  \n",
      " |  hashTaxId(self, nid)\n",
      " |      check if a tax id exists in the model.\n",
      " |  \n",
      " |  isInitialized(self)\n",
      " |  \n",
      " |  isOnlyShowLeaf(self)\n",
      " |      Only return predictions of leaf nodes (that is only species or strains)\n",
      " |  \n",
      " |  isOnlyShowMainTax(self)\n",
      " |      whether only show main ranks (a.k.a superkingdom, phylum, class, order, family, genus, species)\n",
      " |  \n",
      " |  isWithoutUncult(self)\n",
      " |      Whether returns uncultured taxid\n",
      " |  \n",
      " |  predict(self, seq_or_seqs)\n",
      " |      Give the probabilities for each node in the taxonomy tree for a sequence or a list of sequence . (multiple threads if #thread > 1)\n",
      " |  \n",
      " |  predict_single_thread(self, seq_or_seqs)\n",
      " |      Give the probabilities for each node in the taxonomy tree for a sequence or a list of sequence . (single thread version)\n",
      " |  \n",
      " |  ----------------------------------------------------------------------\n",
      " |  Static methods defined here:\n",
      " |  \n",
      " |  add_java_options(*args)\n",
      " |      Add jnius java options (refer to jnius_config.add_options)\n",
      " |  \n",
      " |  set_lshvec_jar_path(jar_path)\n",
      " |      Set jlshvec jar library path\n",
      " |  \n",
      " |  ----------------------------------------------------------------------\n",
      " |  Data descriptors defined here:\n",
      " |  \n",
      " |  __dict__\n",
      " |      dictionary for instance variables (if defined)\n",
      " |  \n",
      " |  __weakref__\n",
      " |      list of weak references to the object (if defined)\n",
      " |  \n",
      " |  ----------------------------------------------------------------------\n",
      " |  Data and other attributes defined here:\n",
      " |  \n",
      " |  lshvec_jar_path = '/mnt/jlshvec-assembly-0.1.jar'\n",
      "\n"
     ]
    }
   ],
   "source": [
    "#use help to see the methods\n",
    "help(model)"
   ]
  },
  {
   "cell_type": "code",
   "execution_count": 10,
   "metadata": {},
   "outputs": [
    {
     "name": "stdout",
     "output_type": "stream",
     "text": [
      "getBatchsize 1024\n",
      "getKmerSize 23\n",
      "getMaxItems 500\n",
      "getNumThread 1\n",
      "getThreshold 0.004999999888241291\n",
      "getVecDim 100\n",
      "isInitialized True\n",
      "isOnlyShowLeaf False\n",
      "isOnlyShowMainTax True\n",
      "isWithoutUncult True\n"
     ]
    }
   ],
   "source": [
    "#To show some parameters\n",
    "getIgnores = ['getRank', 'getName', 'getTaxIdPath', 'getTaxNamePath']\n",
    "for u in dir(model):\n",
    "    if not u in getIgnores:\n",
    "        if u.startswith('get') or u.startswith('is'):\n",
    "            fun = getattr(model, u)\n",
    "            print(u, fun())"
   ]
  },
  {
   "cell_type": "code",
   "execution_count": 11,
   "metadata": {
    "scrolled": true
   },
   "outputs": [
    {
     "name": "stdout",
     "output_type": "stream",
     "text": [
      "getRank no rank\n",
      "getName Pseudomonas aeruginosa 2192\n",
      "getTaxIdPath [1, 131567, 2, 4000000, 4000002, 4000005, 4000467, 1224, 4000609, 4002543, 4010383, 1236, 4107259, 4124163, 4159985, 4165920, 72274, 4165922, 135621, 4165925, 4166101, 4166121, 286, 4166128, 4166131, 4166192, 4166194, 4166196, 4166199, 4166200, 136841, 4166202, 4166205, 4166211, 287, 4166212, 4166215, 4166351, 4166407, 4166435, 4166448, 4166451, 4166455]\n",
      "getTaxNamePath ['root', 'cellular organisms', 'Bacteria', 'dummy4000000', 'dummy4000002', 'dummy4000005', 'dummy4000467', 'Proteobacteria', 'dummy4000609', 'dummy4002543', 'dummy4010383', 'Gammaproteobacteria', 'dummy4107259', 'dummy4124163', 'dummy4159985', 'dummy4165920', 'Pseudomonadales', 'dummy4165922', 'Pseudomonadaceae', 'dummy4165925', 'dummy4166101', 'dummy4166121', 'Pseudomonas', 'dummy4166128', 'dummy4166131', 'dummy4166192', 'dummy4166194', 'dummy4166196', 'dummy4166199', 'dummy4166200', 'Pseudomonas aeruginosa group', 'dummy4166202', 'dummy4166205', 'dummy4166211', 'Pseudomonas aeruginosa', 'dummy4166212', 'dummy4166215', 'dummy4166351', 'dummy4166407', 'dummy4166435', 'dummy4166448', 'dummy4166451', 'dummy4166455']\n"
     ]
    }
   ],
   "source": [
    "#to show information for a taxonomy id\n",
    "# All taxonomiy ids are ncbi taxonomy ids, except dummy id which is not less than 4000000\n",
    "for u in getIgnores:\n",
    "    fun = getattr(model, u)\n",
    "    print(u, fun(350703))"
   ]
  },
  {
   "cell_type": "code",
   "execution_count": null,
   "metadata": {},
   "outputs": [],
   "source": []
  },
  {
   "cell_type": "code",
   "execution_count": 12,
   "metadata": {},
   "outputs": [],
   "source": [
    "def random_dna_sequence(length):\n",
    "    return ''.join(np.random.choice(list('ACTG')) for _ in range(length))\n",
    "\n",
    "def add_substitute_error(seq, err_rate=0.05):\n",
    "    return \"\".join(    np.random.choice(list('ACTG'))  if np.random.random()<err_rate else u for u in seq )\n",
    "def random_sub_seq(seq,length=500):\n",
    "    assert len(seq)>length\n",
    "    i=int(np.random.random()*(len(seq)-length))\n",
    "    return seq[i:i+length]\n",
    "def predict(seq):\n",
    "    pred=pd.Series(model.predict(seq), name='prob')\n",
    "    pred.index.name='taxid'\n",
    "    pred=pred.to_frame()\n",
    "    pred['rank']=pred.index.map(lambda u: model.getRank(u))\n",
    "    pred['name']=pred.index.map(lambda u: model.getName(u))\n",
    "    return pred.sort_values(\"prob\",ascending=False)"
   ]
  },
  {
   "cell_type": "markdown",
   "metadata": {},
   "source": [
    "### let's play with an assembly  for (Pseudomonas aeruginosa)[https://www.ncbi.nlm.nih.gov/assembly/GCF_000152545.1/] whose taxid is 350703."
   ]
  },
  {
   "cell_type": "code",
   "execution_count": 13,
   "metadata": {},
   "outputs": [],
   "source": [
    "url=\"ftp://ftp.ncbi.nlm.nih.gov/genomes/all/GCA/000/152/545/GCA_000152545.1_ASM15254v1/GCA_000152545.1_ASM15254v1_genomic.fna.gz\""
   ]
  },
  {
   "cell_type": "code",
   "execution_count": 14,
   "metadata": {},
   "outputs": [
    {
     "name": "stdout",
     "output_type": "stream",
     "text": [
      "CH482384.1 6905121\n"
     ]
    }
   ],
   "source": [
    "#download the sequence\n",
    "import urllib \n",
    "from Bio import SeqIO\n",
    "import gzip\n",
    "with  urllib.request.urlopen(url) as handle_url :\n",
    "    with gzip.open(handle_url, 'rt') as handle:\n",
    "        for record in SeqIO.parse(handle, \"fasta\"):\n",
    "            print(record.id, len(record))\n",
    "            break"
   ]
  },
  {
   "cell_type": "code",
   "execution_count": 15,
   "metadata": {
    "scrolled": true
   },
   "outputs": [
    {
     "name": "stdout",
     "output_type": "stream",
     "text": [
      "The sequence length is 6905121\n",
      "The sequence is a bit long. To save time, we only keep 50K of it\n",
      "Sampled sequence length is 50000\n"
     ]
    }
   ],
   "source": [
    "seq=str(record.seq)\n",
    "print (\"The sequence length is {}\".format(len(seq)))\n",
    "print (\"The sequence is a bit long. To save time, we only keep 50K of it\")\n",
    "seq=seq[2000000:2000000+50000]\n",
    "print (\"Sampled sequence length is {}\".format(len(seq)))"
   ]
  },
  {
   "cell_type": "code",
   "execution_count": null,
   "metadata": {},
   "outputs": [],
   "source": [
    "\n"
   ]
  },
  {
   "cell_type": "markdown",
   "metadata": {},
   "source": [
    "##### Look at how the model predict on the  seq. Note that we only make predictions on main ranks. (actually it does not work good on strain level)"
   ]
  },
  {
   "cell_type": "code",
   "execution_count": 17,
   "metadata": {},
   "outputs": [
    {
     "data": {
      "text/html": [
       "<div>\n",
       "<style scoped>\n",
       "    .dataframe tbody tr th:only-of-type {\n",
       "        vertical-align: middle;\n",
       "    }\n",
       "\n",
       "    .dataframe tbody tr th {\n",
       "        vertical-align: top;\n",
       "    }\n",
       "\n",
       "    .dataframe thead th {\n",
       "        text-align: right;\n",
       "    }\n",
       "</style>\n",
       "<table border=\"1\" class=\"dataframe\">\n",
       "  <thead>\n",
       "    <tr style=\"text-align: right;\">\n",
       "      <th></th>\n",
       "      <th>prob</th>\n",
       "      <th>rank</th>\n",
       "      <th>name</th>\n",
       "    </tr>\n",
       "    <tr>\n",
       "      <th>taxid</th>\n",
       "      <th></th>\n",
       "      <th></th>\n",
       "      <th></th>\n",
       "    </tr>\n",
       "  </thead>\n",
       "  <tbody>\n",
       "    <tr>\n",
       "      <th>2</th>\n",
       "      <td>1.0000</td>\n",
       "      <td>superkingdom</td>\n",
       "      <td>Bacteria</td>\n",
       "    </tr>\n",
       "    <tr>\n",
       "      <th>1224</th>\n",
       "      <td>0.9977</td>\n",
       "      <td>phylum</td>\n",
       "      <td>Proteobacteria</td>\n",
       "    </tr>\n",
       "    <tr>\n",
       "      <th>1236</th>\n",
       "      <td>0.9958</td>\n",
       "      <td>class</td>\n",
       "      <td>Gammaproteobacteria</td>\n",
       "    </tr>\n",
       "    <tr>\n",
       "      <th>135621</th>\n",
       "      <td>0.9951</td>\n",
       "      <td>family</td>\n",
       "      <td>Pseudomonadaceae</td>\n",
       "    </tr>\n",
       "    <tr>\n",
       "      <th>72274</th>\n",
       "      <td>0.9950</td>\n",
       "      <td>order</td>\n",
       "      <td>Pseudomonadales</td>\n",
       "    </tr>\n",
       "    <tr>\n",
       "      <th>286</th>\n",
       "      <td>0.9950</td>\n",
       "      <td>genus</td>\n",
       "      <td>Pseudomonas</td>\n",
       "    </tr>\n",
       "    <tr>\n",
       "      <th>287</th>\n",
       "      <td>0.9864</td>\n",
       "      <td>species</td>\n",
       "      <td>Pseudomonas aeruginosa</td>\n",
       "    </tr>\n",
       "  </tbody>\n",
       "</table>\n",
       "</div>"
      ],
      "text/plain": [
       "          prob          rank                    name\n",
       "taxid                                               \n",
       "2       1.0000  superkingdom                Bacteria\n",
       "1224    0.9977        phylum          Proteobacteria\n",
       "1236    0.9958         class     Gammaproteobacteria\n",
       "135621  0.9951        family        Pseudomonadaceae\n",
       "72274   0.9950         order         Pseudomonadales\n",
       "286     0.9950         genus             Pseudomonas\n",
       "287     0.9864       species  Pseudomonas aeruginosa"
      ]
     },
     "execution_count": 17,
     "metadata": {},
     "output_type": "execute_result"
    }
   ],
   "source": [
    "predict(seq)"
   ]
  },
  {
   "cell_type": "markdown",
   "metadata": {},
   "source": [
    "### While, it gives a probability of 0.96 on species 287, which is good. "
   ]
  },
  {
   "cell_type": "markdown",
   "metadata": {},
   "source": [
    "### How about introducing errors? I only randomly introduce substituting errors in this notebook (More realistic errors untilize error profile/distribution which is too complex here.).  For example for err rate 3%, the probabily for 287 becomes 80+%."
   ]
  },
  {
   "cell_type": "code",
   "execution_count": 18,
   "metadata": {},
   "outputs": [
    {
     "data": {
      "text/html": [
       "<div>\n",
       "<style scoped>\n",
       "    .dataframe tbody tr th:only-of-type {\n",
       "        vertical-align: middle;\n",
       "    }\n",
       "\n",
       "    .dataframe tbody tr th {\n",
       "        vertical-align: top;\n",
       "    }\n",
       "\n",
       "    .dataframe thead th {\n",
       "        text-align: right;\n",
       "    }\n",
       "</style>\n",
       "<table border=\"1\" class=\"dataframe\">\n",
       "  <thead>\n",
       "    <tr style=\"text-align: right;\">\n",
       "      <th></th>\n",
       "      <th>prob</th>\n",
       "      <th>rank</th>\n",
       "      <th>name</th>\n",
       "    </tr>\n",
       "    <tr>\n",
       "      <th>taxid</th>\n",
       "      <th></th>\n",
       "      <th></th>\n",
       "      <th></th>\n",
       "    </tr>\n",
       "  </thead>\n",
       "  <tbody>\n",
       "    <tr>\n",
       "      <th>2</th>\n",
       "      <td>1.0000</td>\n",
       "      <td>superkingdom</td>\n",
       "      <td>Bacteria</td>\n",
       "    </tr>\n",
       "    <tr>\n",
       "      <th>1224</th>\n",
       "      <td>0.9805</td>\n",
       "      <td>phylum</td>\n",
       "      <td>Proteobacteria</td>\n",
       "    </tr>\n",
       "    <tr>\n",
       "      <th>1236</th>\n",
       "      <td>0.9620</td>\n",
       "      <td>class</td>\n",
       "      <td>Gammaproteobacteria</td>\n",
       "    </tr>\n",
       "    <tr>\n",
       "      <th>72274</th>\n",
       "      <td>0.9539</td>\n",
       "      <td>order</td>\n",
       "      <td>Pseudomonadales</td>\n",
       "    </tr>\n",
       "    <tr>\n",
       "      <th>135621</th>\n",
       "      <td>0.9539</td>\n",
       "      <td>family</td>\n",
       "      <td>Pseudomonadaceae</td>\n",
       "    </tr>\n",
       "    <tr>\n",
       "      <th>286</th>\n",
       "      <td>0.9533</td>\n",
       "      <td>genus</td>\n",
       "      <td>Pseudomonas</td>\n",
       "    </tr>\n",
       "    <tr>\n",
       "      <th>287</th>\n",
       "      <td>0.8779</td>\n",
       "      <td>species</td>\n",
       "      <td>Pseudomonas aeruginosa</td>\n",
       "    </tr>\n",
       "    <tr>\n",
       "      <th>201174</th>\n",
       "      <td>0.0179</td>\n",
       "      <td>phylum</td>\n",
       "      <td>Actinobacteria</td>\n",
       "    </tr>\n",
       "    <tr>\n",
       "      <th>1760</th>\n",
       "      <td>0.0178</td>\n",
       "      <td>class</td>\n",
       "      <td>Actinobacteria</td>\n",
       "    </tr>\n",
       "    <tr>\n",
       "      <th>43306</th>\n",
       "      <td>0.0135</td>\n",
       "      <td>species</td>\n",
       "      <td>Pseudomonas denitrificans (nomen rejiciendum)</td>\n",
       "    </tr>\n",
       "    <tr>\n",
       "      <th>28211</th>\n",
       "      <td>0.0113</td>\n",
       "      <td>class</td>\n",
       "      <td>Alphaproteobacteria</td>\n",
       "    </tr>\n",
       "    <tr>\n",
       "      <th>85006</th>\n",
       "      <td>0.0061</td>\n",
       "      <td>order</td>\n",
       "      <td>Micrococcales</td>\n",
       "    </tr>\n",
       "    <tr>\n",
       "      <th>28216</th>\n",
       "      <td>0.0060</td>\n",
       "      <td>class</td>\n",
       "      <td>Betaproteobacteria</td>\n",
       "    </tr>\n",
       "    <tr>\n",
       "      <th>80840</th>\n",
       "      <td>0.0058</td>\n",
       "      <td>order</td>\n",
       "      <td>Burkholderiales</td>\n",
       "    </tr>\n",
       "  </tbody>\n",
       "</table>\n",
       "</div>"
      ],
      "text/plain": [
       "          prob          rank                                           name\n",
       "taxid                                                                      \n",
       "2       1.0000  superkingdom                                       Bacteria\n",
       "1224    0.9805        phylum                                 Proteobacteria\n",
       "1236    0.9620         class                            Gammaproteobacteria\n",
       "72274   0.9539         order                                Pseudomonadales\n",
       "135621  0.9539        family                               Pseudomonadaceae\n",
       "286     0.9533         genus                                    Pseudomonas\n",
       "287     0.8779       species                         Pseudomonas aeruginosa\n",
       "201174  0.0179        phylum                                 Actinobacteria\n",
       "1760    0.0178         class                                 Actinobacteria\n",
       "43306   0.0135       species  Pseudomonas denitrificans (nomen rejiciendum)\n",
       "28211   0.0113         class                            Alphaproteobacteria\n",
       "85006   0.0061         order                                  Micrococcales\n",
       "28216   0.0060         class                             Betaproteobacteria\n",
       "80840   0.0058         order                                Burkholderiales"
      ]
     },
     "execution_count": 18,
     "metadata": {},
     "output_type": "execute_result"
    }
   ],
   "source": [
    "predict(add_substitute_error(seq,0.03)).head(15)"
   ]
  },
  {
   "cell_type": "markdown",
   "metadata": {},
   "source": [
    "### Let's do 20 times for each error rate and show the accuracy of correctly predicting 287"
   ]
  },
  {
   "cell_type": "code",
   "execution_count": 19,
   "metadata": {},
   "outputs": [],
   "source": [
    "def mean_prob_with_error(seq, error_rate=0.01, target_taxid=287):\n",
    "    count=0.0\n",
    "    for i in range(20):\n",
    "        pred = predict(add_substitute_error(seq, error_rate))\n",
    "        species_pred_df = pred[pred['rank']==\"species\"]\n",
    "        if(len(species_pred_df)==0):\n",
    "            pass\n",
    "        else:\n",
    "            \n",
    "            taxid= species_pred_df.iloc[0].name\n",
    "            if target_taxid ==taxid:\n",
    "                count+=1\n",
    "            else:\n",
    "                pass\n",
    "    return count/20\n"
   ]
  },
  {
   "cell_type": "code",
   "execution_count": 20,
   "metadata": {},
   "outputs": [],
   "source": [
    "err_rates =np.arange(0.01,0.10,0.01)\n",
    "acc=[mean_prob_with_error(seq,x) for x in err_rates]"
   ]
  },
  {
   "cell_type": "code",
   "execution_count": 21,
   "metadata": {
    "scrolled": true
   },
   "outputs": [
    {
     "data": {
      "image/png": "[encoded data removed]",
      "text/plain": [
       "<Figure size 432x288 with 1 Axes>"
      ]
     },
     "metadata": {
      "needs_background": "light"
     },
     "output_type": "display_data"
    }
   ],
   "source": [
    "plt.plot(err_rates,acc)\n",
    "plt.xlabel(\"Error Rate\")\n",
    "plt.ylabel(\"Accuracy\");"
   ]
  },
  {
   "cell_type": "markdown",
   "metadata": {},
   "source": [
    "### While, seems that the seq is still a bit long. Let's do with a 1000-length seq and increase error rate to 20%."
   ]
  },
  {
   "cell_type": "code",
   "execution_count": 28,
   "metadata": {},
   "outputs": [],
   "source": [
    "err_rates =np.arange(0.01,0.20,0.01)\n",
    "acc=[mean_prob_with_error(seq[:1000],x) for x in err_rates]"
   ]
  },
  {
   "cell_type": "code",
   "execution_count": 29,
   "metadata": {},
   "outputs": [
    {
     "data": {
      "image/png": "[encoded data removed]",
      "text/plain": [
       "<Figure size 432x288 with 1 Axes>"
      ]
     },
     "metadata": {
      "needs_background": "light"
     },
     "output_type": "display_data"
    }
   ],
   "source": [
    "plt.plot(err_rates,acc)\n",
    "plt.xlabel(\"Error Rate\")\n",
    "plt.ylabel(\"Accuracy\");"
   ]
  },
  {
   "cell_type": "markdown",
   "metadata": {},
   "source": [
    "### All the above work on the whole sequence. How about for sub sequences?"
   ]
  },
  {
   "cell_type": "code",
   "execution_count": 30,
   "metadata": {},
   "outputs": [
    {
     "data": {
      "text/html": [
       "<div>\n",
       "<style scoped>\n",
       "    .dataframe tbody tr th:only-of-type {\n",
       "        vertical-align: middle;\n",
       "    }\n",
       "\n",
       "    .dataframe tbody tr th {\n",
       "        vertical-align: top;\n",
       "    }\n",
       "\n",
       "    .dataframe thead th {\n",
       "        text-align: right;\n",
       "    }\n",
       "</style>\n",
       "<table border=\"1\" class=\"dataframe\">\n",
       "  <thead>\n",
       "    <tr style=\"text-align: right;\">\n",
       "      <th></th>\n",
       "      <th>prob</th>\n",
       "      <th>rank</th>\n",
       "      <th>name</th>\n",
       "    </tr>\n",
       "    <tr>\n",
       "      <th>taxid</th>\n",
       "      <th></th>\n",
       "      <th></th>\n",
       "      <th></th>\n",
       "    </tr>\n",
       "  </thead>\n",
       "  <tbody>\n",
       "    <tr>\n",
       "      <th>2</th>\n",
       "      <td>1.0000</td>\n",
       "      <td>superkingdom</td>\n",
       "      <td>Bacteria</td>\n",
       "    </tr>\n",
       "    <tr>\n",
       "      <th>1224</th>\n",
       "      <td>0.9863</td>\n",
       "      <td>phylum</td>\n",
       "      <td>Proteobacteria</td>\n",
       "    </tr>\n",
       "    <tr>\n",
       "      <th>1236</th>\n",
       "      <td>0.9798</td>\n",
       "      <td>class</td>\n",
       "      <td>Gammaproteobacteria</td>\n",
       "    </tr>\n",
       "    <tr>\n",
       "      <th>135621</th>\n",
       "      <td>0.9745</td>\n",
       "      <td>family</td>\n",
       "      <td>Pseudomonadaceae</td>\n",
       "    </tr>\n",
       "    <tr>\n",
       "      <th>72274</th>\n",
       "      <td>0.9744</td>\n",
       "      <td>order</td>\n",
       "      <td>Pseudomonadales</td>\n",
       "    </tr>\n",
       "    <tr>\n",
       "      <th>286</th>\n",
       "      <td>0.9742</td>\n",
       "      <td>genus</td>\n",
       "      <td>Pseudomonas</td>\n",
       "    </tr>\n",
       "    <tr>\n",
       "      <th>287</th>\n",
       "      <td>0.9097</td>\n",
       "      <td>species</td>\n",
       "      <td>Pseudomonas aeruginosa</td>\n",
       "    </tr>\n",
       "    <tr>\n",
       "      <th>201174</th>\n",
       "      <td>0.0129</td>\n",
       "      <td>phylum</td>\n",
       "      <td>Actinobacteria</td>\n",
       "    </tr>\n",
       "    <tr>\n",
       "      <th>1760</th>\n",
       "      <td>0.0128</td>\n",
       "      <td>class</td>\n",
       "      <td>Actinobacteria</td>\n",
       "    </tr>\n",
       "  </tbody>\n",
       "</table>\n",
       "</div>"
      ],
      "text/plain": [
       "          prob          rank                    name\n",
       "taxid                                               \n",
       "2       1.0000  superkingdom                Bacteria\n",
       "1224    0.9863        phylum          Proteobacteria\n",
       "1236    0.9798         class     Gammaproteobacteria\n",
       "135621  0.9745        family        Pseudomonadaceae\n",
       "72274   0.9744         order         Pseudomonadales\n",
       "286     0.9742         genus             Pseudomonas\n",
       "287     0.9097       species  Pseudomonas aeruginosa\n",
       "201174  0.0129        phylum          Actinobacteria\n",
       "1760    0.0128         class          Actinobacteria"
      ]
     },
     "execution_count": 30,
     "metadata": {},
     "output_type": "execute_result"
    }
   ],
   "source": [
    "predict(random_sub_seq(seq,300))"
   ]
  },
  {
   "cell_type": "markdown",
   "metadata": {},
   "source": [
    "### It is not bad for a 300-length sequence."
   ]
  },
  {
   "cell_type": "markdown",
   "metadata": {},
   "source": [
    "### We are going to show the mean prediction probabilities for tax 1980526 for various subseq length."
   ]
  },
  {
   "cell_type": "code",
   "execution_count": 32,
   "metadata": {},
   "outputs": [],
   "source": [
    "def mean_prob(seq_len=500, target_taxid=287):\n",
    "    prob_list=[]\n",
    "    for i in range(0,len(seq)-seq_len,int(seq_len/2)):\n",
    "        aseq = seq[i:i+seq_len]\n",
    "        pred = model.predict(aseq)\n",
    "        if target_taxid in pred:\n",
    "            prob_list.append(pred[target_taxid])\n",
    "        else:\n",
    "            prob_list.append(0)\n",
    "    return np.mean(prob_list)\n"
   ]
  },
  {
   "cell_type": "code",
   "execution_count": 33,
   "metadata": {},
   "outputs": [],
   "source": [
    "lengths =list( range(100,500,25))\n",
    "probs=[mean_prob(seq_len=u) for u in lengths]"
   ]
  },
  {
   "cell_type": "code",
   "execution_count": 34,
   "metadata": {},
   "outputs": [
    {
     "data": {
      "image/png": "[encoded data removed]",
      "text/plain": [
       "<Figure size 432x288 with 1 Axes>"
      ]
     },
     "metadata": {
      "needs_background": "light"
     },
     "output_type": "display_data"
    }
   ],
   "source": [
    "plt.plot(lengths,probs)\n",
    "plt.ylabel(\"Probability\")\n",
    "plt.xlabel(\"Sequence Length\");"
   ]
  },
  {
   "cell_type": "code",
   "execution_count": null,
   "metadata": {},
   "outputs": [],
   "source": []
  },
  {
   "cell_type": "code",
   "execution_count": null,
   "metadata": {},
   "outputs": [],
   "source": []
  }
 ],
 "metadata": {
  "kernelspec": {
   "display_name": "Python 3",
   "language": "python",
   "name": "python3"
  },
  "language_info": {
   "codemirror_mode": {
    "name": "ipython",
    "version": 3
   },
   "file_extension": ".py",
   "mimetype": "text/x-python",
   "name": "python",
   "nbconvert_exporter": "python",
   "pygments_lexer": "ipython3",
   "version": "3.7.3"
  }
 },
 "nbformat": 4,
 "nbformat_minor": 2
}
