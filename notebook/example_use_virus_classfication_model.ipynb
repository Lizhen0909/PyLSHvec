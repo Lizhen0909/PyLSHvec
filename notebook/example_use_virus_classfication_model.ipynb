{
 "cells": [
  {
   "cell_type": "markdown",
   "metadata": {},
   "source": [
    "To run this example notebook:\n",
    "* pandas, numy, biopython are needed for this notebook.\n",
    "* viruses model files and lshvec java library are required to be downloaded (refer to project README)\n",
    "* install PyLSHVec (pip, docker or from code)\n",
    "* Be warning that jnius may not work on your environment. Refer to https://github.com/kivy/pyjnius for trouble shooting."
   ]
  },
  {
   "cell_type": "code",
   "execution_count": 1,
   "metadata": {
    "scrolled": true
   },
   "outputs": [
    {
     "name": "stdout",
     "output_type": "stream",
     "text": [
      "Populating the interactive namespace from numpy and matplotlib\n"
     ]
    }
   ],
   "source": [
    "%pylab inline\n",
    "import sys,os\n",
    "import pandas as pd"
   ]
  },
  {
   "cell_type": "code",
   "execution_count": 2,
   "metadata": {},
   "outputs": [],
   "source": [
    "if 0: #ignore this\n",
    "    sys.path.insert(0,\"../src/\")\n",
    "    os.environ['JAVA_HOME']='/usr/lib/jvm/java-openjdk/'"
   ]
  },
  {
   "cell_type": "code",
   "execution_count": 5,
   "metadata": {},
   "outputs": [],
   "source": [
    "from pylshvec import *"
   ]
  },
  {
   "cell_type": "code",
   "execution_count": 6,
   "metadata": {},
   "outputs": [],
   "source": [
    "#here needs jlshvec jar file, download it first\n",
    "set_lshvec_jar_path(\"/mnt/jlshvec-assembly-0.1.jar\")"
   ]
  },
  {
   "cell_type": "code",
   "execution_count": 7,
   "metadata": {},
   "outputs": [],
   "source": [
    "#since vector model is usually large, set a big java memory limit is preferred. \n",
    "add_java_options(\"-Xmx32G\")"
   ]
  },
  {
   "cell_type": "code",
   "execution_count": 8,
   "metadata": {},
   "outputs": [],
   "source": [
    "#here need model file and lsh function file, download them first\n",
    "model= LSHVec(model_file=\"/mnt/refdb_viruses_model_gs_k23_l3000_rand_m299\", hash_file=\"/mnt/lsh_nt_NonEukaryota_k23_h25.crp\")"
   ]
  },
  {
   "cell_type": "code",
   "execution_count": 9,
   "metadata": {},
   "outputs": [
    {
     "name": "stdout",
     "output_type": "stream",
     "text": [
      "Help on LSHVec in module pylshvec.lshvec object:\n",
      "\n",
      "class LSHVec(builtins.object)\n",
      " |  LSHVec(model_file, hash_file, threshold=0.005, max_results=500, batch_size=1024, num_thread=1, only_show_main_tax=False, without_uncult=True)\n",
      " |  \n",
      " |  Methods defined here:\n",
      " |  \n",
      " |  __init__(self, model_file, hash_file, threshold=0.005, max_results=500, batch_size=1024, num_thread=1, only_show_main_tax=False, without_uncult=True)\n",
      " |      load a pre-trained lshvec model. \n",
      " |      \n",
      " |      Parameters:\n",
      " |          model_file: pre-trained model file, which contains k-mer vectors and model parameters\n",
      " |          hash_file: lsh hash function file\n",
      " |      \n",
      " |      Refer to get methods for the meaning of other parameters\n",
      " |  \n",
      " |  embedding(self, seq_or_seqs)\n",
      " |      Get the embedding vector/vectors for a sequence or a list of sequence (multiple threads if #thread > 1)\n",
      " |  \n",
      " |  embedding_single_thread(self, seq_or_seqs)\n",
      " |      Get the embedding vector/vectors for a sequence or a list of sequence (single thread version)\n",
      " |  \n",
      " |  getBatchsize(self)\n",
      " |      batch size when make prediction or embedding (internal use)\n",
      " |  \n",
      " |  getKmerSize(self)\n",
      " |      The kmer size used when the model was trained\n",
      " |  \n",
      " |  getMaxItems(self)\n",
      " |      maximum number of taxids returned for prediction of a sequence. \n",
      " |      It prevent to return too many results since a usually a taxonomy tree has millions of nodes.\n",
      " |  \n",
      " |  getName(self, nid)\n",
      " |      return name of a tax id. e.g. 2 -> bacteria\n",
      " |  \n",
      " |  getNumThread(self)\n",
      " |      The number of threads\n",
      " |  \n",
      " |  getRank(self, nid)\n",
      " |      return rank of a tax id. e.g. 2 -> superkingdom\n",
      " |  \n",
      " |  getTaxIdPath(self, nid)\n",
      " |      return path of a taxid (from root to this taxid)\n",
      " |  \n",
      " |  getTaxNamePath(self, nid)\n",
      " |      return taxid name path of a taxid (from root to this taxid)\n",
      " |  \n",
      " |  getThreshold(self)\n",
      " |      Probability threshold. The prediction of a taxid is returned only when its probability is greater than the threshold\n",
      " |  \n",
      " |  getVecDim(self)\n",
      " |      embedding vector size\n",
      " |  \n",
      " |  hashTaxId(self, nid)\n",
      " |      check if a tax id exists in the model.\n",
      " |  \n",
      " |  isInitialized(self)\n",
      " |  \n",
      " |  isOnlyShowLeaf(self)\n",
      " |      Only return predictions of leaf nodes (that is only species or strains)\n",
      " |  \n",
      " |  isOnlyShowMainTax(self)\n",
      " |      whether only show main ranks (a.k.a superkingdom, phylum, class, order, family, genus, species)\n",
      " |  \n",
      " |  isWithoutUncult(self)\n",
      " |      Whether returns uncultured taxid\n",
      " |  \n",
      " |  predict(self, seq_or_seqs)\n",
      " |      Give the probabilities for each node in the taxonomy tree for a sequence or a list of sequence . (multiple threads if #thread > 1)\n",
      " |  \n",
      " |  predict_single_thread(self, seq_or_seqs)\n",
      " |      Give the probabilities for each node in the taxonomy tree for a sequence or a list of sequence . (single thread version)\n",
      " |  \n",
      " |  ----------------------------------------------------------------------\n",
      " |  Static methods defined here:\n",
      " |  \n",
      " |  add_java_options(*args)\n",
      " |      Add jnius java options (refer to jnius_config.add_options)\n",
      " |  \n",
      " |  set_lshvec_jar_path(jar_path)\n",
      " |      Set jlshvec jar library path\n",
      " |  \n",
      " |  ----------------------------------------------------------------------\n",
      " |  Data descriptors defined here:\n",
      " |  \n",
      " |  __dict__\n",
      " |      dictionary for instance variables (if defined)\n",
      " |  \n",
      " |  __weakref__\n",
      " |      list of weak references to the object (if defined)\n",
      " |  \n",
      " |  ----------------------------------------------------------------------\n",
      " |  Data and other attributes defined here:\n",
      " |  \n",
      " |  lshvec_jar_path = '/mnt/jlshvec-assembly-0.1.jar'\n",
      "\n"
     ]
    }
   ],
   "source": [
    "#use help to see the methods\n",
    "help(model)"
   ]
  },
  {
   "cell_type": "code",
   "execution_count": 9,
   "metadata": {},
   "outputs": [
    {
     "name": "stdout",
     "output_type": "stream",
     "text": [
      "getBatchsize 1024\n",
      "getKmerSize 23\n",
      "getMaxItems 500\n",
      "getNumThread 1\n",
      "getThreshold 0.004999999888241291\n",
      "getVecDim 100\n",
      "isInitialized True\n",
      "isOnlyShowLeaf False\n",
      "isOnlyShowMainTax True\n",
      "isWithoutUncult True\n"
     ]
    }
   ],
   "source": [
    "#To show some parameters\n",
    "getIgnores = ['getRank', 'getName', 'getTaxIdPath', 'getTaxNamePath']\n",
    "for u in dir(model):\n",
    "    if not u in getIgnores:\n",
    "        if u.startswith('get') or u.startswith('is'):\n",
    "            fun = getattr(model, u)\n",
    "            print(u, fun())"
   ]
  },
  {
   "cell_type": "code",
   "execution_count": 12,
   "metadata": {
    "scrolled": true
   },
   "outputs": [
    {
     "name": "stdout",
     "output_type": "stream",
     "text": [
      "getRank species\n",
      "getName Nairobi sheep disease orthonairovirus\n",
      "getTaxIdPath [1, 10239, 4000001, 4011699, 4027768, 4027770, 4027773, 2559587, 4028110, 4028113, 4032822, 4032824, 4032826, 2497569, 4032829, 2497571, 2497576, 1980410, 4034803, 4035699, 4035703, 1980415, 4036275, 1980517, 4036277, 4036320, 4036323]\n",
      "getTaxNamePath ['root', 'Viruses', 'dummy4000001', 'dummy4011699', 'dummy4027768', 'dummy4027770', 'dummy4027773', 'Riboviria', 'dummy4028110', 'dummy4028113', 'dummy4032822', 'dummy4032824', 'dummy4032826', 'Negarnaviricota', 'dummy4032829', 'Polyploviricotina', 'Ellioviricetes', 'Bunyavirales', 'dummy4034803', 'dummy4035699', 'dummy4035703', 'Nairoviridae', 'dummy4036275', 'Orthonairovirus', 'dummy4036277', 'dummy4036320', 'dummy4036323']\n"
     ]
    }
   ],
   "source": [
    "#to show information for a taxonomy id\n",
    "# All taxonomiy ids are ncbi taxonomy ids, except dummy id which is not less than 4000000\n",
    "for u in getIgnores:\n",
    "    fun = getattr(model, u)\n",
    "    print(u, fun(1980526))"
   ]
  },
  {
   "cell_type": "code",
   "execution_count": null,
   "metadata": {},
   "outputs": [],
   "source": []
  },
  {
   "cell_type": "code",
   "execution_count": 19,
   "metadata": {},
   "outputs": [],
   "source": [
    "def random_dna_sequence(length):\n",
    "    return ''.join(np.random.choice(list('ACTG')) for _ in range(length))\n",
    "\n",
    "def add_substitute_error(seq, err_rate=0.05):\n",
    "    return \"\".join(    np.random.choice(list('ACTG'))  if np.random.random()<err_rate else u for u in seq )\n",
    "def random_sub_seq(seq,length=500):\n",
    "    assert len(seq)>length\n",
    "    i=int(np.random.random()*(len(seq)-length))\n",
    "    return seq[i:i+length]\n",
    "def predict(seq):\n",
    "    pred=pd.Series(model.predict(seq), name='prob')\n",
    "    pred.index.name='taxid'\n",
    "    pred=pred.to_frame()\n",
    "    pred['rank']=pred.index.map(lambda u: model.getRank(u))\n",
    "    pred['name']=pred.index.map(lambda u: model.getName(u))\n",
    "    return pred.sort_values(\"prob\",ascending=False)"
   ]
  },
  {
   "cell_type": "markdown",
   "metadata": {},
   "source": [
    "### let's play with an assembly  for (Nairobi sheep disease virus)[https://www.ncbi.nlm.nih.gov/assembly/GCF_002117695.1/] whose taxid is 194540."
   ]
  },
  {
   "cell_type": "code",
   "execution_count": 14,
   "metadata": {},
   "outputs": [],
   "source": [
    "url=\"ftp://ftp.ncbi.nlm.nih.gov/genomes/all/GCA/002/117/695/GCA_002117695.1_ViralMultiSegProj384967/GCA_002117695.1_ViralMultiSegProj384967_genomic.fna.gz\""
   ]
  },
  {
   "cell_type": "code",
   "execution_count": 15,
   "metadata": {},
   "outputs": [
    {
     "name": "stdout",
     "output_type": "stream",
     "text": [
      "KM464726.1 12081\n"
     ]
    }
   ],
   "source": [
    "#download the sequence\n",
    "import urllib \n",
    "from Bio import SeqIO\n",
    "import gzip\n",
    "with  urllib.request.urlopen(url) as handle_url :\n",
    "    with gzip.open(handle_url, 'rt') as handle:\n",
    "        for record in SeqIO.parse(handle, \"fasta\"):\n",
    "            print(record.id, len(record))\n",
    "            break"
   ]
  },
  {
   "cell_type": "code",
   "execution_count": 17,
   "metadata": {
    "scrolled": true
   },
   "outputs": [
    {
     "name": "stdout",
     "output_type": "stream",
     "text": [
      "The sequence length is 12081\n"
     ]
    }
   ],
   "source": [
    "seq=str(record.seq)\n",
    "print (\"The sequence length is {}\".format(len(seq)))"
   ]
  },
  {
   "cell_type": "markdown",
   "metadata": {},
   "source": [
    "##### Look at how the model predict on the whole seq"
   ]
  },
  {
   "cell_type": "code",
   "execution_count": 20,
   "metadata": {},
   "outputs": [
    {
     "data": {
      "text/html": [
       "<div>\n",
       "<style scoped>\n",
       "    .dataframe tbody tr th:only-of-type {\n",
       "        vertical-align: middle;\n",
       "    }\n",
       "\n",
       "    .dataframe tbody tr th {\n",
       "        vertical-align: top;\n",
       "    }\n",
       "\n",
       "    .dataframe thead th {\n",
       "        text-align: right;\n",
       "    }\n",
       "</style>\n",
       "<table border=\"1\" class=\"dataframe\">\n",
       "  <thead>\n",
       "    <tr style=\"text-align: right;\">\n",
       "      <th></th>\n",
       "      <th>prob</th>\n",
       "      <th>rank</th>\n",
       "      <th>name</th>\n",
       "    </tr>\n",
       "    <tr>\n",
       "      <th>taxid</th>\n",
       "      <th></th>\n",
       "      <th></th>\n",
       "      <th></th>\n",
       "    </tr>\n",
       "  </thead>\n",
       "  <tbody>\n",
       "    <tr>\n",
       "      <th>1980410</th>\n",
       "      <td>1.0001</td>\n",
       "      <td>order</td>\n",
       "      <td>Bunyavirales</td>\n",
       "    </tr>\n",
       "    <tr>\n",
       "      <th>2497569</th>\n",
       "      <td>1.0001</td>\n",
       "      <td>phylum</td>\n",
       "      <td>Negarnaviricota</td>\n",
       "    </tr>\n",
       "    <tr>\n",
       "      <th>2497576</th>\n",
       "      <td>1.0001</td>\n",
       "      <td>class</td>\n",
       "      <td>Ellioviricetes</td>\n",
       "    </tr>\n",
       "    <tr>\n",
       "      <th>10239</th>\n",
       "      <td>1.0000</td>\n",
       "      <td>superkingdom</td>\n",
       "      <td>Viruses</td>\n",
       "    </tr>\n",
       "    <tr>\n",
       "      <th>1980415</th>\n",
       "      <td>0.9995</td>\n",
       "      <td>family</td>\n",
       "      <td>Nairoviridae</td>\n",
       "    </tr>\n",
       "    <tr>\n",
       "      <th>1980517</th>\n",
       "      <td>0.9995</td>\n",
       "      <td>genus</td>\n",
       "      <td>Orthonairovirus</td>\n",
       "    </tr>\n",
       "    <tr>\n",
       "      <th>1980526</th>\n",
       "      <td>0.9903</td>\n",
       "      <td>species</td>\n",
       "      <td>Nairobi sheep disease orthonairovirus</td>\n",
       "    </tr>\n",
       "    <tr>\n",
       "      <th>1980527</th>\n",
       "      <td>0.0055</td>\n",
       "      <td>species</td>\n",
       "      <td>Qalyub orthonairovirus</td>\n",
       "    </tr>\n",
       "  </tbody>\n",
       "</table>\n",
       "</div>"
      ],
      "text/plain": [
       "           prob          rank                                   name\n",
       "taxid                                                               \n",
       "1980410  1.0001         order                           Bunyavirales\n",
       "2497569  1.0001        phylum                        Negarnaviricota\n",
       "2497576  1.0001         class                         Ellioviricetes\n",
       "10239    1.0000  superkingdom                                Viruses\n",
       "1980415  0.9995        family                           Nairoviridae\n",
       "1980517  0.9995         genus                        Orthonairovirus\n",
       "1980526  0.9903       species  Nairobi sheep disease orthonairovirus\n",
       "1980527  0.0055       species                 Qalyub orthonairovirus"
      ]
     },
     "execution_count": 20,
     "metadata": {},
     "output_type": "execute_result"
    }
   ],
   "source": [
    "predict(seq)"
   ]
  },
  {
   "cell_type": "markdown",
   "metadata": {},
   "source": [
    "### While, it gives a probability of 0.99 on 1980526, which is good. "
   ]
  },
  {
   "cell_type": "markdown",
   "metadata": {},
   "source": [
    "### How about introducing errors? I only randomly introduce substituting errors in this notebook (More realistic errors untilize error profile/distribution which is too complex here.).  For example for err rate 3%, the probabily for 1980526 becomes 80+%."
   ]
  },
  {
   "cell_type": "code",
   "execution_count": 25,
   "metadata": {},
   "outputs": [
    {
     "data": {
      "text/html": [
       "<div>\n",
       "<style scoped>\n",
       "    .dataframe tbody tr th:only-of-type {\n",
       "        vertical-align: middle;\n",
       "    }\n",
       "\n",
       "    .dataframe tbody tr th {\n",
       "        vertical-align: top;\n",
       "    }\n",
       "\n",
       "    .dataframe thead th {\n",
       "        text-align: right;\n",
       "    }\n",
       "</style>\n",
       "<table border=\"1\" class=\"dataframe\">\n",
       "  <thead>\n",
       "    <tr style=\"text-align: right;\">\n",
       "      <th></th>\n",
       "      <th>prob</th>\n",
       "      <th>rank</th>\n",
       "      <th>name</th>\n",
       "    </tr>\n",
       "    <tr>\n",
       "      <th>taxid</th>\n",
       "      <th></th>\n",
       "      <th></th>\n",
       "      <th></th>\n",
       "    </tr>\n",
       "  </thead>\n",
       "  <tbody>\n",
       "    <tr>\n",
       "      <th>10239</th>\n",
       "      <td>1.0000</td>\n",
       "      <td>superkingdom</td>\n",
       "      <td>Viruses</td>\n",
       "    </tr>\n",
       "    <tr>\n",
       "      <th>2497569</th>\n",
       "      <td>0.9845</td>\n",
       "      <td>phylum</td>\n",
       "      <td>Negarnaviricota</td>\n",
       "    </tr>\n",
       "    <tr>\n",
       "      <th>2497576</th>\n",
       "      <td>0.9836</td>\n",
       "      <td>class</td>\n",
       "      <td>Ellioviricetes</td>\n",
       "    </tr>\n",
       "    <tr>\n",
       "      <th>1980410</th>\n",
       "      <td>0.9836</td>\n",
       "      <td>order</td>\n",
       "      <td>Bunyavirales</td>\n",
       "    </tr>\n",
       "    <tr>\n",
       "      <th>1980517</th>\n",
       "      <td>0.8905</td>\n",
       "      <td>genus</td>\n",
       "      <td>Orthonairovirus</td>\n",
       "    </tr>\n",
       "    <tr>\n",
       "      <th>1980415</th>\n",
       "      <td>0.8905</td>\n",
       "      <td>family</td>\n",
       "      <td>Nairoviridae</td>\n",
       "    </tr>\n",
       "    <tr>\n",
       "      <th>1980526</th>\n",
       "      <td>0.8207</td>\n",
       "      <td>species</td>\n",
       "      <td>Nairobi sheep disease orthonairovirus</td>\n",
       "    </tr>\n",
       "    <tr>\n",
       "      <th>11617</th>\n",
       "      <td>0.0516</td>\n",
       "      <td>family</td>\n",
       "      <td>Arenaviridae</td>\n",
       "    </tr>\n",
       "    <tr>\n",
       "      <th>1653394</th>\n",
       "      <td>0.0497</td>\n",
       "      <td>genus</td>\n",
       "      <td>Mammarenavirus</td>\n",
       "    </tr>\n",
       "    <tr>\n",
       "      <th>1980413</th>\n",
       "      <td>0.0332</td>\n",
       "      <td>family</td>\n",
       "      <td>Hantaviridae</td>\n",
       "    </tr>\n",
       "    <tr>\n",
       "      <th>1980442</th>\n",
       "      <td>0.0332</td>\n",
       "      <td>genus</td>\n",
       "      <td>Orthohantavirus</td>\n",
       "    </tr>\n",
       "    <tr>\n",
       "      <th>1980527</th>\n",
       "      <td>0.0258</td>\n",
       "      <td>species</td>\n",
       "      <td>Qalyub orthonairovirus</td>\n",
       "    </tr>\n",
       "    <tr>\n",
       "      <th>883876</th>\n",
       "      <td>0.0246</td>\n",
       "      <td>species</td>\n",
       "      <td>Luna mammarenavirus</td>\n",
       "    </tr>\n",
       "    <tr>\n",
       "      <th>28883</th>\n",
       "      <td>0.0154</td>\n",
       "      <td>order</td>\n",
       "      <td>Caudovirales</td>\n",
       "    </tr>\n",
       "    <tr>\n",
       "      <th>10662</th>\n",
       "      <td>0.0152</td>\n",
       "      <td>family</td>\n",
       "      <td>Myoviridae</td>\n",
       "    </tr>\n",
       "  </tbody>\n",
       "</table>\n",
       "</div>"
      ],
      "text/plain": [
       "           prob          rank                                   name\n",
       "taxid                                                               \n",
       "10239    1.0000  superkingdom                                Viruses\n",
       "2497569  0.9845        phylum                        Negarnaviricota\n",
       "2497576  0.9836         class                         Ellioviricetes\n",
       "1980410  0.9836         order                           Bunyavirales\n",
       "1980517  0.8905         genus                        Orthonairovirus\n",
       "1980415  0.8905        family                           Nairoviridae\n",
       "1980526  0.8207       species  Nairobi sheep disease orthonairovirus\n",
       "11617    0.0516        family                           Arenaviridae\n",
       "1653394  0.0497         genus                         Mammarenavirus\n",
       "1980413  0.0332        family                           Hantaviridae\n",
       "1980442  0.0332         genus                        Orthohantavirus\n",
       "1980527  0.0258       species                 Qalyub orthonairovirus\n",
       "883876   0.0246       species                    Luna mammarenavirus\n",
       "28883    0.0154         order                           Caudovirales\n",
       "10662    0.0152        family                             Myoviridae"
      ]
     },
     "execution_count": 25,
     "metadata": {},
     "output_type": "execute_result"
    }
   ],
   "source": [
    "predict(add_substitute_error(seq,0.03)).head(15)"
   ]
  },
  {
   "cell_type": "markdown",
   "metadata": {},
   "source": [
    "### Let's do 20 times for each error rate and show the accuracy of correctly predicting 1980526"
   ]
  },
  {
   "cell_type": "code",
   "execution_count": 49,
   "metadata": {},
   "outputs": [],
   "source": [
    "def mean_prob_with_error(seq, error_rate=0.01, target_taxid=1980526):\n",
    "    count=0.0\n",
    "    for i in range(20):\n",
    "        pred = predict(add_substitute_error(seq, error_rate))\n",
    "        species_pred_df = pred[pred['rank']==\"species\"]\n",
    "        if(len(species_pred_df)==0):\n",
    "            pass\n",
    "        else:\n",
    "            \n",
    "            taxid= species_pred_df.iloc[0].name\n",
    "            if target_taxid ==taxid:\n",
    "                count+=1\n",
    "            else:\n",
    "                pass\n",
    "    return count/20\n"
   ]
  },
  {
   "cell_type": "code",
   "execution_count": 50,
   "metadata": {},
   "outputs": [],
   "source": [
    "err_rates =np.arange(0.01,0.10,0.01)\n",
    "acc=[mean_prob_with_error(seq,x) for x in err_rates]"
   ]
  },
  {
   "cell_type": "code",
   "execution_count": 62,
   "metadata": {
    "scrolled": true
   },
   "outputs": [
    {
     "data": {
      "image/png": "[encoded data removed]",
      "text/plain": [
       "<Figure size 432x288 with 1 Axes>"
      ]
     },
     "metadata": {
      "needs_background": "light"
     },
     "output_type": "display_data"
    }
   ],
   "source": [
    "plt.plot(err_rates,acc)\n",
    "plt.xlabel(\"Error Rate\")\n",
    "plt.ylabel(\"Accuracy\");"
   ]
  },
  {
   "cell_type": "code",
   "execution_count": null,
   "metadata": {},
   "outputs": [],
   "source": []
  },
  {
   "cell_type": "code",
   "execution_count": null,
   "metadata": {},
   "outputs": [],
   "source": []
  },
  {
   "cell_type": "markdown",
   "metadata": {},
   "source": [
    "### All the above work on the whole sequence. How about for sub sequences?"
   ]
  },
  {
   "cell_type": "code",
   "execution_count": 57,
   "metadata": {},
   "outputs": [
    {
     "data": {
      "text/html": [
       "<div>\n",
       "<style scoped>\n",
       "    .dataframe tbody tr th:only-of-type {\n",
       "        vertical-align: middle;\n",
       "    }\n",
       "\n",
       "    .dataframe tbody tr th {\n",
       "        vertical-align: top;\n",
       "    }\n",
       "\n",
       "    .dataframe thead th {\n",
       "        text-align: right;\n",
       "    }\n",
       "</style>\n",
       "<table border=\"1\" class=\"dataframe\">\n",
       "  <thead>\n",
       "    <tr style=\"text-align: right;\">\n",
       "      <th></th>\n",
       "      <th>prob</th>\n",
       "      <th>rank</th>\n",
       "      <th>name</th>\n",
       "    </tr>\n",
       "    <tr>\n",
       "      <th>taxid</th>\n",
       "      <th></th>\n",
       "      <th></th>\n",
       "      <th></th>\n",
       "    </tr>\n",
       "  </thead>\n",
       "  <tbody>\n",
       "    <tr>\n",
       "      <th>1980410</th>\n",
       "      <td>1.0001</td>\n",
       "      <td>order</td>\n",
       "      <td>Bunyavirales</td>\n",
       "    </tr>\n",
       "    <tr>\n",
       "      <th>2497569</th>\n",
       "      <td>1.0001</td>\n",
       "      <td>phylum</td>\n",
       "      <td>Negarnaviricota</td>\n",
       "    </tr>\n",
       "    <tr>\n",
       "      <th>2497576</th>\n",
       "      <td>1.0001</td>\n",
       "      <td>class</td>\n",
       "      <td>Ellioviricetes</td>\n",
       "    </tr>\n",
       "    <tr>\n",
       "      <th>10239</th>\n",
       "      <td>1.0000</td>\n",
       "      <td>superkingdom</td>\n",
       "      <td>Viruses</td>\n",
       "    </tr>\n",
       "    <tr>\n",
       "      <th>1980415</th>\n",
       "      <td>0.9979</td>\n",
       "      <td>family</td>\n",
       "      <td>Nairoviridae</td>\n",
       "    </tr>\n",
       "    <tr>\n",
       "      <th>1980517</th>\n",
       "      <td>0.9979</td>\n",
       "      <td>genus</td>\n",
       "      <td>Orthonairovirus</td>\n",
       "    </tr>\n",
       "    <tr>\n",
       "      <th>1980526</th>\n",
       "      <td>0.9877</td>\n",
       "      <td>species</td>\n",
       "      <td>Nairobi sheep disease orthonairovirus</td>\n",
       "    </tr>\n",
       "  </tbody>\n",
       "</table>\n",
       "</div>"
      ],
      "text/plain": [
       "           prob          rank                                   name\n",
       "taxid                                                               \n",
       "1980410  1.0001         order                           Bunyavirales\n",
       "2497569  1.0001        phylum                        Negarnaviricota\n",
       "2497576  1.0001         class                         Ellioviricetes\n",
       "10239    1.0000  superkingdom                                Viruses\n",
       "1980415  0.9979        family                           Nairoviridae\n",
       "1980517  0.9979         genus                        Orthonairovirus\n",
       "1980526  0.9877       species  Nairobi sheep disease orthonairovirus"
      ]
     },
     "execution_count": 57,
     "metadata": {},
     "output_type": "execute_result"
    }
   ],
   "source": [
    "predict(random_sub_seq(seq,300))"
   ]
  },
  {
   "cell_type": "markdown",
   "metadata": {},
   "source": [
    "### It is not bad for a 300-length sequence."
   ]
  },
  {
   "cell_type": "markdown",
   "metadata": {},
   "source": [
    "### We are going to show the mean prediction probabilities for tax 1980526 for various subseq length."
   ]
  },
  {
   "cell_type": "code",
   "execution_count": 63,
   "metadata": {},
   "outputs": [],
   "source": [
    "def mean_prob(seq_len=500, target_taxid=1980526):\n",
    "    prob_list=[]\n",
    "    for i in range(0,len(seq)-seq_len,int(seq_len/4)):\n",
    "        aseq = seq[i:i+seq_len]\n",
    "        pred = model.predict(aseq)\n",
    "        if target_taxid in pred:\n",
    "            prob_list.append(pred[target_taxid])\n",
    "        else:\n",
    "            prob_list.append(0)\n",
    "    return np.mean(prob_list)\n"
   ]
  },
  {
   "cell_type": "code",
   "execution_count": 64,
   "metadata": {},
   "outputs": [],
   "source": [
    "lengths =list( range(100,1000,25))\n",
    "probs=[mean_prob(seq_len=u) for u in lengths]"
   ]
  },
  {
   "cell_type": "code",
   "execution_count": 67,
   "metadata": {},
   "outputs": [
    {
     "data": {
      "image/png": "[encoded data removed]",
      "text/plain": [
       "<Figure size 432x288 with 1 Axes>"
      ]
     },
     "metadata": {
      "needs_background": "light"
     },
     "output_type": "display_data"
    }
   ],
   "source": [
    "plt.plot(lengths,probs)\n",
    "plt.ylabel(\"Probability\")\n",
    "plt.xlabel(\"Sequence Length\");"
   ]
  },
  {
   "cell_type": "code",
   "execution_count": null,
   "metadata": {},
   "outputs": [],
   "source": []
  },
  {
   "cell_type": "code",
   "execution_count": null,
   "metadata": {},
   "outputs": [],
   "source": []
  }
 ],
 "metadata": {
  "kernelspec": {
   "display_name": "Python 3",
   "language": "python",
   "name": "python3"
  },
  "language_info": {
   "codemirror_mode": {
    "name": "ipython",
    "version": 3
   },
   "file_extension": ".py",
   "mimetype": "text/x-python",
   "name": "python",
   "nbconvert_exporter": "python",
   "pygments_lexer": "ipython3",
   "version": "3.7.3"
  }
 },
 "nbformat": 4,
 "nbformat_minor": 2
}
